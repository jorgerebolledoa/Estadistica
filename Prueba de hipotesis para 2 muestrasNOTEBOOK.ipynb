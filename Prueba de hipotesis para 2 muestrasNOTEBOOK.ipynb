{
 "cells": [
  {
   "cell_type": "code",
   "execution_count": null,
   "id": "88cfd2cc",
   "metadata": {},
   "outputs": [
    {
     "ename": "",
     "evalue": "",
     "output_type": "error",
     "traceback": [
      "\u001b[1;31mLa ejecución de celdas con 'Python 3.11.6' requiere el paquete ipykernel.\n",
      "\u001b[1;31mEjecute el siguiente comando para instalar 'ipykernel' en el entorno de Python. comando \n",
      "\u001b[1;31m: '/usr/bin/python3.11 -m pip install ipykernel -U --user --force-reinstall'"
     ]
    }
   ],
   "source": [
    "import math\n",
    "import scipy.stats as stats\n",
    "from scipy.stats import norm"
   ]
  },
  {
   "cell_type": "code",
   "execution_count": 4,
   "id": "59926509",
   "metadata": {},
   "outputs": [
    {
     "name": "stdout",
     "output_type": "stream",
     "text": [
      "Intervalo de confianza para la diferencia de proporciones: {'Diferencia de proporciones': 0.13, 'Límite Inferior': 0.043366815253150254, 'Límite Superior': 0.21663318474684976, 'Nivel de Confianza': 0.95}\n"
     ]
    }
   ],
   "source": [
    "def IC_difProporciones(n1, p1, n2, p2, NC=0.95):\n",
    "    \"\"\"\n",
    "    Calcula el intervalo de confianza para la diferencia de proporciones entre dos muestras.\n",
    "\n",
    "    Parámetros:\n",
    "    n1 (int): Tamaño de la muestra 1 (hombres)\n",
    "    p1 (float): Proporción muestral 1 (proporción de hombres que opinan que el sexo no importa)\n",
    "    n2 (int): Tamaño de la muestra 2 (mujeres)\n",
    "    p2 (float): Proporción muestral 2 (proporción de mujeres que opinan que el sexo no importa)\n",
    "    NC (float): Nivel de confianza (por defecto es 0.95)\n",
    "\n",
    "    Retorna:\n",
    "    dict: Intervalo de confianza con límite inferior, límite superior y la diferencia de proporciones observada\n",
    "    \"\"\"\n",
    "    z = stats.norm.ppf(1 - (1 - NC) / 2)\n",
    "    diff = p1 - p2\n",
    "    se = math.sqrt(p1 * (1 - p1) / n1 + p2 * (1 - p2) / n2)\n",
    "    margin_of_error = z * se\n",
    "    lower_bound = diff - margin_of_error\n",
    "    upper_bound = diff + margin_of_error\n",
    "\n",
    "    return {\n",
    "        \"Diferencia de proporciones\": diff,\n",
    "        \"Límite Inferior\": lower_bound,\n",
    "        \"Límite Superior\": upper_bound,\n",
    "        \"Nivel de Confianza\": NC\n",
    "    }\n"
   ]
  },
  {
   "cell_type": "code",
   "execution_count": 6,
   "id": "2e447e65",
   "metadata": {},
   "outputs": [
    {
     "name": "stdout",
     "output_type": "stream",
     "text": [
      "Intervalo de confianza para la diferencia de proporciones: {'Diferencia de proporciones': 0.13, 'Límite Inferior': 0.043366815253150254, 'Límite Superior': 0.21663318474684976, 'Nivel de Confianza': 0.95}\n"
     ]
    }
   ],
   "source": [
    "# Ejemplo de uso para el problema planteado\n",
    "n1 = 241  # Número de hombres entrevistados\n",
    "p1 = 0.62  # Proporción de hombres que opinan que el sexo no importa\n",
    "n2 = 256  # Número de mujeres entrevistados\n",
    "p2 = 0.49  # Proporción de mujeres que opinan que el sexo no importa\n",
    "NC = 0.95  # Nivel de confianza\n",
    "\n",
    "resultado = IC_difProporciones(n1, p1, n2, p2, NC)\n",
    "print(\"Intervalo de confianza para la diferencia de proporciones:\", resultado)\n"
   ]
  },
  {
   "cell_type": "code",
   "execution_count": null,
   "id": "15fb2def",
   "metadata": {},
   "outputs": [],
   "source": [
    "#CALCULAMOS EL ESTADISTICO DE PRUEBA PARA DIFERENCIA DE PROPORCIONES.\n",
    "\n",
    "#HIPOTESIS NULA: No hay diferencia en la proporción de hombres y mujeres que opinan que el sexo del candidato no importa.\n",
    "\n",
    "#H1: Hay una diferencia en la proporción de hombres y mujeres que opinan que el sexo del candidato no importa.\n"
   ]
  },
  {
   "cell_type": "code",
   "execution_count": null,
   "id": "d82f1d6a",
   "metadata": {},
   "outputs": [
    {
     "ename": "",
     "evalue": "",
     "output_type": "error",
     "traceback": [
      "\u001b[1;31mLa ejecución de celdas con 'Python 3.12.3' requiere el paquete ipykernel.\n",
      "\u001b[1;31mEjecute el siguiente comando para instalar 'ipykernel' en el entorno de Python. comando \n",
      "\u001b[1;31m: '/bin/python3 -m pip install ipykernel -U --user --force-reinstall'"
     ]
    }
   ],
   "source": [
    "def diferencia_proporciones(n1, x1, n2, x2, alpha=0.05):    \n",
    "    # Calcular proporciones muestrales\n",
    "    p1 = x1 / n1\n",
    "    p2 = x2 / n2\n",
    "    \n",
    "    # Calcular proporción combinada\n",
    "    p_comb = (x1 + x2) / (n1 + n2)\n",
    "    \n",
    "    # Calcular error estándar\n",
    "    SE = math.sqrt(p_comb * (1 - p_comb) * (1/n1 + 1/n2))\n",
    "    \n",
    "    # Calcular valor de z\n",
    "    z = (p1 - p2) / SE\n",
    "    \n",
    "    # Valor crítico para una prueba bilateral\n",
    "    z_critico = norm.ppf(1 - alpha/2)\n",
    "    \n",
    "    # Calcular valor p para una prueba bilateral\n",
    "    p_value = 2 * (1 - norm.cdf(abs(z)))\n",
    "    \n",
    "    # Determinar si se rechaza la hipótesis nula\n",
    "    rechazo_hipotesis_nula = abs(z) >= z_critico\n",
    "    \n",
    "    return {\n",
    "        \"p1\": p1,\n",
    "        \"p2\": p2,\n",
    "        \"p_comb\": p_comb,\n",
    "        \"p_value\": p_value,\n",
    "        \"SE\": SE,\n",
    "        \"z\": z,\n",
    "        \"z_critico\": z_critico,\n",
    "        \"rechazo_hipotesis_nula\": rechazo_hipotesis_nula\n",
    "    }\n",
    "\n",
    "# Datos del ejercicio\n",
    "n1 = 241\n",
    "x1 = 149\n",
    "n2 = 256\n",
    "x2 = 125\n",
    "alpha = 0.05\n",
    "\n",
    "# Llamar a la función con los datos proporcionados\n",
    "resultado = diferencia_proporciones(n1, x1, n2, x2, alpha)\n",
    "\n",
    "# Mostrar los resultados\n",
    "print(\"Proporción hombres (p1):\", resultado[\"p1\"])\n",
    "print(\"Proporción mujeres (p2):\", resultado[\"p2\"])\n",
    "print(\"Proporción combinada (p_comb):\", resultado[\"p_comb\"])\n",
    "print(\"Error estándar (SE):\", resultado[\"SE\"])\n",
    "print(\"Valor de z:\", resultado[\"z\"])\n",
    "print(\"Valor crítico (z_critico):\", resultado[\"z_critico\"])\n",
    "print(\"Valor p:\", resultado[\"p_value\"])\n",
    "print(\"¿Rechazo de la hipótesis nula?:\", resultado[\"rechazo_hipotesis_nula\"])"
   ]
  },
  {
   "cell_type": "code",
   "execution_count": null,
   "id": "cac3dcff",
   "metadata": {},
   "outputs": [],
   "source": []
  }
 ],
 "metadata": {
  "kernelspec": {
   "display_name": "Python 3",
   "language": "python",
   "name": "python3"
  },
  "language_info": {
   "codemirror_mode": {
    "name": "ipython",
    "version": 3
   },
   "file_extension": ".py",
   "mimetype": "text/x-python",
   "name": "python",
   "nbconvert_exporter": "python",
   "pygments_lexer": "ipython3",
   "version": "3.11.6"
  }
 },
 "nbformat": 4,
 "nbformat_minor": 5
}
